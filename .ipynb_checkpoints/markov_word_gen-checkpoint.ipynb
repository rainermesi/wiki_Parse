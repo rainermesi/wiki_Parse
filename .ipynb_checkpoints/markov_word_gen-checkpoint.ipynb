{
 "cells": [
  {
   "cell_type": "markdown",
   "metadata": {},
   "source": [
    "Import modules"
   ]
  },
  {
   "cell_type": "code",
   "execution_count": 1,
   "metadata": {},
   "outputs": [],
   "source": [
    "import numpy as np\n",
    "import pandas as pd\n",
    "import random\n",
    "import re\n",
    "from collections import defaultdict\n",
    "from collections import Counter"
   ]
  },
  {
   "cell_type": "markdown",
   "metadata": {},
   "source": [
    "Read in corpus"
   ]
  },
  {
   "cell_type": "code",
   "execution_count": 2,
   "metadata": {},
   "outputs": [],
   "source": [
    "full_corpus = open(r'C:\\Users\\raine\\Downloads\\etwiki_latest\\wiki_et.txt','r',encoding='utf-8').read()\n",
    "word_list = full_corpus.lower().split()"
   ]
  },
  {
   "cell_type": "markdown",
   "metadata": {},
   "source": [
    "What are most popular words in corpus?"
   ]
  },
  {
   "cell_type": "code",
   "execution_count": 3,
   "metadata": {},
   "outputs": [
    {
     "data": {
      "text/plain": [
       "ja                 1148377\n",
       "on                  800455\n",
       "kategooria          333385\n",
       "eesti               307631\n",
       "oli                 291754\n",
       "                    ...   \n",
       "mazıdağı                 1\n",
       "kihlveokontorid          1\n",
       "prächtig                 1\n",
       "sõstramesi               1\n",
       "scoudil                  1\n",
       "Length: 1731238, dtype: int64"
      ]
     },
     "execution_count": 3,
     "metadata": {},
     "output_type": "execute_result"
    }
   ],
   "source": [
    "pd_word_series = pd.Series(word_list)"
   ]
  },
  {
   "cell_type": "code",
   "execution_count": 4,
   "metadata": {},
   "outputs": [
    {
     "data": {
      "text/plain": [
       "ja             1148377\n",
       "on              800455\n",
       "kategooria      333385\n",
       "eesti           307631\n",
       "oli             291754\n",
       "ta              271610\n",
       "aastal          249307\n",
       "ka              231168\n",
       "ning            201392\n",
       "et              171516\n",
       "mis             165233\n",
       "kui             156204\n",
       "ei              136771\n",
       "aasta           124229\n",
       "või             112717\n",
       "see             100403\n",
       "oma             100297\n",
       "tema             84331\n",
       "selle            76414\n",
       "viited           74003\n",
       "sai              70914\n",
       "sündinud         66513\n",
       "kuid             65650\n",
       "tartu            64389\n",
       "välislingid      62625\n",
       "the              62323\n",
       "kes              61928\n",
       "pärast           58102\n",
       "seda             57875\n",
       "mille            57853\n",
       "jpg              55724\n",
       "tallinna         55129\n",
       "kus              55090\n",
       "keeles           53840\n",
       "kuni             51982\n",
       "aga              50693\n",
       "of               50308\n",
       "välja            49863\n",
       "aastatel         49489\n",
       "nii              48971\n",
       "olid             45566\n",
       "võib             44797\n",
       "üle              44738\n",
       "ehk              44505\n",
       "nende            44300\n",
       "mida             42336\n",
       "usa              42066\n",
       "saksa            41694\n",
       "aastast          41254\n",
       "näiteks          40722\n",
       "dtype: int64"
      ]
     },
     "execution_count": 4,
     "metadata": {},
     "output_type": "execute_result"
    }
   ],
   "source": [
    "pd_word_series.value_counts().head(50)"
   ]
  },
  {
   "cell_type": "markdown",
   "metadata": {},
   "source": [
    "How long are words in corpus?"
   ]
  },
  {
   "cell_type": "code",
   "execution_count": null,
   "metadata": {},
   "outputs": [],
   "source": [
    "def word_len_df_gen(in_list):\n",
    "    count_list = [len(item) for item in in_list]\n",
    "    count_df = pd.DataFrame.from_dict(collections.Counter(count_list).items())\n",
    "    count_df[2] = count_df[1] / count_df[1].sum()\n",
    "    return count_df\n",
    "\n",
    "word_len_df = word_len_df_gen(list_ow)\n",
    "\n",
    "def rand_word_len_picker(in_df):\n",
    "    return np.random.choice(in_df[0],p=in_df[2])"
   ]
  },
  {
   "cell_type": "code",
   "execution_count": null,
   "metadata": {},
   "outputs": [],
   "source": []
  }
 ],
 "metadata": {
  "kernelspec": {
   "display_name": "Python 3.7.5 64-bit ('jupyterlab': conda)",
   "language": "python",
   "name": "python37564bitjupyterlabcondacf7fca067e6349aa91afc37379c5735b"
  },
  "language_info": {
   "codemirror_mode": {
    "name": "ipython",
    "version": 3
   },
   "file_extension": ".py",
   "mimetype": "text/x-python",
   "name": "python",
   "nbconvert_exporter": "python",
   "pygments_lexer": "ipython3",
   "version": "3.7.5"
  }
 },
 "nbformat": 4,
 "nbformat_minor": 4
}
